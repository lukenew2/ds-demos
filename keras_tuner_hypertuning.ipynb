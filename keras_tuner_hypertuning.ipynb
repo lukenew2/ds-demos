{
 "cells": [
  {
   "cell_type": "markdown",
   "id": "bce28e9b",
   "metadata": {},
   "source": [
    "# HyperTuning with KerasTuner and TensorFlow\n",
    "---\n",
    "\n",
    "Building machine learning models is an iterative process that involves optimizing the model's performance and compute resources. The settings that you adjust during each iteration are called *hyperparameters*. They govern the training process and are held constant during training. \n",
    "\n",
    "The process of searching for optimal hyperparameters is called *hyperparameter tuning* or *hypertuning*, and is essential in any machine learning project. Hypertuning helps boost performance and reduces model complexity by removing unnecessary parameters (e.g., number of units in a dense layer).\n",
    "There are two type of hyperparameters:\n",
    "1. *Model hyperparameters* that influence model architecture (e.g., number and width of hidden layers in a DNN)\n",
    "2. *Algorithm hyperparameters* that influence the speed and quality of training (e.g., learning rate and activation function).\n",
    "\n",
    "The number of hyperparameter combinations, even in a shallow DNN, can grow insanely large making manually searching for the optimal set simply not feasible nor scalable. \n",
    "This post will introduce you to KerasTuner, a library made to automate the hyperparameter search. We'll build a deep learning model and train it on the Fashion MNIST dataset with:\n",
    "* Pre-selected hyperparameters\n",
    "* Optimized hyperparameters with KerasTuner\n",
    "* Optimized pre-trained Xception and ResNet models\n",
    "\n",
    "Let's begin!"
   ]
  },
  {
   "cell_type": "markdown",
   "id": "8f473c80",
   "metadata": {},
   "source": [
    "## Imports and Preprocessing"
   ]
  },
  {
   "cell_type": "code",
   "execution_count": 2,
   "id": "14c6e3b9",
   "metadata": {},
   "outputs": [
    {
     "name": "stdout",
     "output_type": "stream",
     "text": [
      "TensorFlow Version: 2.5.0\n",
      "KerasTuner Version: 1.0.1\n"
     ]
    }
   ],
   "source": [
    "import tensorflow as tf\n",
    "import kerastuner as kt\n",
    "\n",
    "print(f\"TensorFlow Version: {tf.__version__}\")\n",
    "print(f\"KerasTuner Version: {kt.__version__}\")"
   ]
  },
  {
   "cell_type": "markdown",
   "id": "9c3eca70",
   "metadata": {},
   "source": [
    "## Keras Tuner"
   ]
  },
  {
   "cell_type": "code",
   "execution_count": null,
   "id": "b10fcad7",
   "metadata": {},
   "outputs": [],
   "source": []
  }
 ],
 "metadata": {
  "kernelspec": {
   "display_name": "hype",
   "language": "python",
   "name": "hype"
  },
  "language_info": {
   "codemirror_mode": {
    "name": "ipython",
    "version": 3
   },
   "file_extension": ".py",
   "mimetype": "text/x-python",
   "name": "python",
   "nbconvert_exporter": "python",
   "pygments_lexer": "ipython3",
   "version": "3.8.11"
  }
 },
 "nbformat": 4,
 "nbformat_minor": 5
}
