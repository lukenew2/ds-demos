{
 "cells": [
  {
   "cell_type": "markdown",
   "id": "bce28e9b",
   "metadata": {},
   "source": [
    "# HyperTuning of Deep Neural Networks\n",
    "---\n",
    "\n",
    "The number of combinations of hyperparameters in a deep learning model can grow insanely large even for a small model. Manually searching for the optimal set of hyperparameters is simply not feasible nor scalable. \n",
    "\n",
    "This notebook will introduce you to KerasTuner, a library made to automate the hyperparameter search. We'll build a deep learning model and train it on the Fashion MNIST dataset using default hyperparameters and then use KerasTuner to optimize our model and compare the results."
   ]
  },
  {
   "cell_type": "markdown",
   "id": "9c3eca70",
   "metadata": {},
   "source": [
    "## Keras Tuner"
   ]
  },
  {
   "cell_type": "code",
   "execution_count": null,
   "id": "b10fcad7",
   "metadata": {},
   "outputs": [],
   "source": []
  }
 ],
 "metadata": {
  "kernelspec": {
   "display_name": "hype",
   "language": "python",
   "name": "hype"
  },
  "language_info": {
   "codemirror_mode": {
    "name": "ipython",
    "version": 3
   },
   "file_extension": ".py",
   "mimetype": "text/x-python",
   "name": "python",
   "nbconvert_exporter": "python",
   "pygments_lexer": "ipython3",
   "version": "3.8.11"
  }
 },
 "nbformat": 4,
 "nbformat_minor": 5
}
